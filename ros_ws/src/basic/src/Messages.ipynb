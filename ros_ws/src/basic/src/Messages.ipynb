{
 "nbformat": 4,
 "nbformat_minor": 2,
 "metadata": {
  "language_info": {
   "name": "python",
   "codemirror_mode": {
    "name": "ipython",
    "version": 3
   },
   "version": "3.8.2-final"
  },
  "orig_nbformat": 2,
  "file_extension": ".py",
  "mimetype": "text/x-python",
  "name": "python",
  "npconvert_exporter": "python",
  "pygments_lexer": "ipython3",
  "version": 3,
  "kernelspec": {
   "name": "python38264bitcontrolsconda2cec91fb1b6645ccb561a09d1fbd891a",
   "display_name": "Python 3.8.2 64-bit ('controls': conda)"
  }
 },
 "cells": [
  {
   "cell_type": "markdown",
   "metadata": {},
   "source": [
    "### Intro\n",
    "ROS has primitive message types and custom message types. For the list of primitive message types refer to Table 3-1 in Reference textbook in Notes folder.\n",
    "\n",
    "We can define our own messages by special message-definition files in the msg directory of a package. These files are then compiled into language-specific implementations that can be used in your code. This means that, even if you’re using an interpreted language such as Python, you need to run catkin_make if you’re going to define your own message types."
   ]
  },
  {
   "cell_type": "markdown",
   "metadata": {},
   "source": [
    "### Procedure to create new message type"
   ]
  },
  {
   "cell_type": "markdown",
   "metadata": {},
   "source": [
    "1. Create a message definition x.msg\n",
    "\n",
    "Here a message definiton file for compelx numbers is created with following content in it\n",
    "\n",
    "float32 real\n",
    "\n",
    "float32 imaginary"
   ]
  },
  {
   "cell_type": "markdown",
   "metadata": {},
   "source": [
    "2. Place complex.msg file in msg directory of the your package (Here basics package)\n",
    "\n",
    "3. tell the ROS system to custom message code edit package.xml\n",
    "\n",
    "<build_depend>message_generation</build_depend> \n",
    "\n",
    "<run_depend>message_runtime</run_depend>\n",
    "\n",
    "4. edit CMakeLists.txt file so that while building ROS will include message_generation package\n",
    "\n",
    "find_package(catkin REQUIRED COMPONENTS)\n",
    "\n",
    "roscpp \n",
    "\n",
    "rospy \n",
    "\n",
    "std_msgs \n",
    "\n",
    "message_generation\n",
    ")\n",
    "\n",
    "5. tell catkin that we’re going to use messages at runtime, by adding message_runtime to the catkin_package().\n",
    "\n",
    "\n",
    "catkin_package( CATKIN_DEPENDS message_runtime)\n",
    "\n",
    "\n",
    "6. tell catkin which message files we want to compile by adding them to the add_message_files()\n",
    "\n",
    "add_message_files( FILES Complex.msg)\n",
    "\n",
    "7. in the CMakeLists.txt file, we need to make sure the generate_messages() call is uncommented and contains all the dependencies that are needed by our messages:\n",
    "\n",
    "generate_messages( DEPENDENCIES std_msgs)\n",
    "\n",
    "8. goto root of workpace (ros_ws) and run catkin_make"
   ]
  },
  {
   "cell_type": "code",
   "execution_count": null,
   "metadata": {},
   "outputs": [],
   "source": [
    "#we can use message type as follows\n",
    "\n",
    "import rospy \n",
    "from basics.msg \n",
    "import Complex \n",
    "from random import random\n",
    "\n",
    "rospy.init_node('message_publisher') \n",
    "pub = rospy.Publisher('published', Complex) \n",
    "rate = rospy.Rate(2)\n",
    "while not rospy.is_shutdown(): \n",
    "    msg = Complex() \n",
    "    msg.real = random() \n",
    "    msg.imaginary = random()\n",
    "    pub.publish(msg) \n",
    "    rate.sleep()\n"
   ]
  },
  {
   "cell_type": "code",
   "execution_count": null,
   "metadata": {},
   "outputs": [],
   "source": [
    "#we can give values to message during definition as follows\n",
    "\n",
    "msg = Complex(real=2.3) # where imaginary value will be default value defined in the Complex class (which is modifiable)"
   ]
  },
  {
   "cell_type": "code",
   "execution_count": null,
   "metadata": {},
   "outputs": [],
   "source": [
    "# subscribing and reading the message\n",
    "import rospy \n",
    "from basics.msg \n",
    "import Complex\n",
    "\n",
    "def callback(msg): \n",
    "    print 'Real:', msg.real \\\n",
    "    print 'Imaginary:', msg.imaginary \n",
    "    print\n",
    "\n",
    "rospy.init_node('message_subscriber') \n",
    "sub = rospy.Subscriber('published', Complex, callback) rospy.spin()"
   ]
  },
  {
   "cell_type": "markdown",
   "metadata": {},
   "source": [
    "### To lookat the contents of a defined message type:\n",
    "\n",
    "user@hostname$ rosmsg show Complex \n",
    "\n",
    "### rosmsg list will show all of the messages available in ROS\n",
    "\n",
    "user@hostname$ rosmsg package basics\n",
    "\n",
    "\n",
    "user@hostname$ rosmsg package sensor_msgs\n",
    "\n"
   ]
  }
 ]
}