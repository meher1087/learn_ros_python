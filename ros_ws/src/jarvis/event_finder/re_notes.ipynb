{
 "cells": [
  {
   "cell_type": "markdown",
   "metadata": {},
   "source": [
    "### As lot of re gonna use in this node this file keeps track of what I learned out of it"
   ]
  },
  {
   "cell_type": "markdown",
   "metadata": {},
   "source": [
    "#### Look behind assertion - (?<...), Negative look behind assertion (?!<..)"
   ]
  },
  {
   "cell_type": "code",
   "execution_count": 1,
   "metadata": {},
   "outputs": [
    {
     "output_type": "execute_result",
     "data": {
      "text/plain": "'def'"
     },
     "metadata": {},
     "execution_count": 1
    }
   ],
   "source": [
    "# Look for def following abc?\n",
    "import re\n",
    "m = re.search('(?<=abc)def', 'abcdef')\n",
    "m.group(0)"
   ]
  },
  {
   "cell_type": "code",
   "execution_count": 2,
   "metadata": {},
   "outputs": [
    {
     "output_type": "execute_result",
     "data": {
      "text/plain": "'egg'"
     },
     "metadata": {},
     "execution_count": 2
    }
   ],
   "source": [
    "# Look for anything following hyphen?\n",
    "m = re.search(r'(?<=-)\\w+', 'spam-egg')\n",
    "m.group(0)"
   ]
  },
  {
   "cell_type": "markdown",
   "metadata": {},
   "source": [
    "### Above regular expression (?<=) consists of meta charaters. List of meta charecters is . ^ $ * + ? { } [ ] \\ | ( )"
   ]
  },
  {
   "cell_type": "code",
   "execution_count": 92,
   "metadata": {},
   "outputs": [
    {
     "output_type": "stream",
     "name": "stdout",
     "text": "b\nb\n"
    }
   ],
   "source": [
    "#The first metacharacters we’ll look at are [ and ]. They’re used for specifying a character class, which is a set of characters that you wish to match. we can use metacharacters also in the list which will be treated as characters only. \n",
    "\n",
    "\n",
    "c = \"the best thing that happens is we get sleep after work!!\"\n",
    "m = re.search(r'[abc]',c)\n",
    "print(m.group(0))  # first b is taken\n",
    "\n",
    "#same can be written as [a-c]\n",
    "c = re.search(r'[a-c]',c)\n",
    "print(c.group(0))  # first b is taken"
   ]
  },
  {
   "cell_type": "code",
   "execution_count": 23,
   "metadata": {},
   "outputs": [
    {
     "output_type": "stream",
     "name": "stdout",
     "text": "\nc\n"
    }
   ],
   "source": [
    "# second one is ^ which means except the character. Which means ^c will match everything except c\n",
    "\n",
    "c = \"abc is going to be neglected in the search now!!\"\n",
    "m = re.search(r'[^abc]',c)\n",
    "print(m.group(0))\n",
    "\n",
    "c = \"abc is going to be neglected in the search now!!\"\n",
    "m = re.search(r'[^ab]',c)\n",
    "print(m.group(0))  # note that once space encountered search is stopped thats why no output for first search\n"
   ]
  },
  {
   "cell_type": "code",
   "execution_count": 21,
   "metadata": {},
   "outputs": [
    {
     "output_type": "stream",
     "name": "stdout",
     "text": "\\\n"
    }
   ],
   "source": [
    "#Third one is \\ which is escape charater used to write metacharacters as normal characters\n",
    "c = \"find \\&^ in the search now!!\"\n",
    "m = re.search(r'[\\\\\\&\\^]',c)\n",
    "print(m.group(0))\n",
    "\n"
   ]
  },
  {
   "cell_type": "code",
   "execution_count": 25,
   "metadata": {},
   "outputs": [
    {
     "output_type": "stream",
     "name": "stdout",
     "text": "f\n"
    }
   ],
   "source": [
    "# fourth one is \\w which means search all numbers and letters which is equivalent to [a-zA-Z0-9_]\n",
    "c = \"\\&^find  in the search now!!\"\n",
    "m = re.search(r'[\\w]',c)\n",
    "print(m.group(0))"
   ]
  },
  {
   "cell_type": "markdown",
   "metadata": {},
   "source": [
    "#### As \\w is short form of special sequence [a-zA-Z0-9_] there are other short forms too"
   ]
  },
  {
   "cell_type": "markdown",
   "metadata": {},
   "source": [
    "\\d - [0-9], \\D [^0-9], \\s [\\t\\n\\r\\f\\v] which means all kinds off white space characters, \\S is except white spaces, \\W except alpha numeric"
   ]
  },
  {
   "cell_type": "code",
   "execution_count": 30,
   "metadata": {},
   "outputs": [
    {
     "output_type": "stream",
     "name": "stdout",
     "text": "\\\n"
    }
   ],
   "source": [
    "# we can include sequences in charater classes as [\\S\\w] which means except all kinds of spaces and all alphanumeric\n",
    "\n",
    "c = \"\\&^find  in the search now!!\"\n",
    "m = re.search(r'[\\S\\w]',c)\n",
    "print(m.group(0))"
   ]
  },
  {
   "cell_type": "markdown",
   "metadata": {},
   "source": [
    "Last one is . which matches anything except new line. \n"
   ]
  },
  {
   "cell_type": "markdown",
   "metadata": {},
   "source": [
    "### what happens if we use repetetor *.\n",
    "\n",
    "* star will match 0 or more occurances of character"
   ]
  },
  {
   "cell_type": "code",
   "execution_count": 86,
   "metadata": {},
   "outputs": [
    {
     "output_type": "stream",
     "name": "stdout",
     "text": "['aaaab']\n['abababaabz', 'absbz']\n['zhabsbz', 'zhatutu']\n"
    }
   ],
   "source": [
    "# below code searches for b with out a before it and b with a or multiple a's before it\n",
    "c = 'aaaab'\n",
    "m = re.findall(r'a*b',c)\n",
    "print(m)\n",
    "\n",
    "#below code searches z and any letter combination of a to x preciding z\n",
    "c = 'abababaabzabsbz'\n",
    "m = re.findall(r'[a-x]*z',c)\n",
    "print(m)\n",
    "\n",
    "#below code find out any word stating with zh\n",
    "c = 'abababaabzhabsbz zhatutu thttuhz'\n",
    "m = re.findall(r'zh[a-z]*',c)\n",
    "print(m)\n",
    "\n"
   ]
  },
  {
   "cell_type": "code",
   "execution_count": 91,
   "metadata": {},
   "outputs": [
    {
     "output_type": "stream",
     "name": "stdout",
     "text": "['r', 'i', 'remind', 'me', 'mm', 'r', 'mee', 'in']\n\n['', '', 'r', '', 'i', '', '', '', 'remind', '', 'me', '', '', '', 'mm', '', 'r', '', '', '', '', '', '', '', '', '', 'mee', '', 'in', '', '']\n"
    }
   ],
   "source": [
    "# + will check for atleast one or more repeatetions of the character, where as * search for 0 or more\n",
    "\n",
    "s = \"Jarvis  remind me tommorow about meeting\"\n",
    "\n",
    "result1 = re.findall(r'[remind]+',s)\n",
    "result2 = re.findall(r'[remind]*',s)\n",
    "\n",
    "print(result1)\n",
    "print(\"\")\n",
    "print(result2)"
   ]
  },
  {
   "cell_type": "code",
   "execution_count": 96,
   "metadata": {},
   "outputs": [
    {
     "output_type": "stream",
     "name": "stdout",
     "text": "<re.Match object; span=(8, 15), match='remind-'>\n<re.Match object; span=(8, 14), match='remind'>\n"
    }
   ],
   "source": [
    "#### ? preceding charater is repeating charater searching for once or zero times. Thus we can make a search optional like either present or not.\n",
    "\n",
    "s = \" Jarvis remind-me tommorow abou this\"\n",
    "res = re.search(r'remind-?',s)\n",
    "print(res)\n",
    "\n",
    "\n",
    "s = \" Jarvis remind me tommorow abou this\"\n",
    "res = re.search(r'remind-?',s)\n",
    "print(res)"
   ]
  },
  {
   "cell_type": "code",
   "execution_count": null,
   "metadata": {},
   "outputs": [],
   "source": [
    "# {m,n} says there must be atleast m repetetions and atmost n.\n",
    "\n",
    "# example a/{1,3}b will match a/b, a//b, a///b \n",
    "\n",
    "# {0,1} is same as using ?"
   ]
  },
  {
   "cell_type": "code",
   "execution_count": 101,
   "metadata": {},
   "outputs": [
    {
     "output_type": "stream",
     "name": "stdout",
     "text": "<re.Match object; span=(37, 40), match='re\\\\'>\n"
    }
   ],
   "source": [
    "## finally regular expression in r'' will make sure it is translated from python to c properly. it says it is raw expression.\n",
    "\n",
    "s = \" Jarvis remind me tommorow abou this re\\\\\"\n",
    "res = re.search(r're\\\\',s)\n",
    "print(res)"
   ]
  },
  {
   "cell_type": "markdown",
   "metadata": {},
   "source": [
    "#### Methods/attributes"
   ]
  },
  {
   "cell_type": "code",
   "execution_count": null,
   "metadata": {},
   "outputs": [],
   "source": [
    "# match() - Determine if the RE matches at the beginning of the string, if its not in the begining it stops search\n",
    "\n",
    "# search() - Scan through a string, looking for any location where this RE matches. first match it stops.\n",
    "\n",
    "# findall() -Find all substrings where the RE matches, and returns them as a list. finds all matches\n",
    "\n",
    "# finditer() - Find all substrings where the RE matches, and returns them as an iterator.\n"
   ]
  },
  {
   "cell_type": "markdown",
   "metadata": {},
   "source": [
    "#### Compile and get match object"
   ]
  },
  {
   "cell_type": "code",
   "execution_count": 104,
   "metadata": {},
   "outputs": [
    {
     "output_type": "execute_result",
     "data": {
      "text/plain": "re.compile(r'[a-z]+', re.UNICODE)"
     },
     "metadata": {},
     "execution_count": 104
    }
   ],
   "source": [
    "import re\n",
    "letters = re.compile('[a-z]+')\n",
    "letters"
   ]
  },
  {
   "cell_type": "code",
   "execution_count": 105,
   "metadata": {},
   "outputs": [
    {
     "output_type": "execute_result",
     "data": {
      "text/plain": "<re.Match object; span=(0, 5), match='tempo'>"
     },
     "metadata": {},
     "execution_count": 105
    }
   ],
   "source": [
    "m = letters.match('tempo')\n",
    "m"
   ]
  },
  {
   "cell_type": "markdown",
   "metadata": {},
   "source": [
    "#### query the match object "
   ]
  },
  {
   "cell_type": "code",
   "execution_count": 108,
   "metadata": {},
   "outputs": [
    {
     "output_type": "stream",
     "name": "stdout",
     "text": "tempo\n0 5\n(0, 5)\n"
    }
   ],
   "source": [
    "print(m.group()) # returns match\n",
    "print(m.start(),m.end()) # returns indexes\n",
    "print(m.span()) # tuple containing start and end positions"
   ]
  },
  {
   "cell_type": "markdown",
   "metadata": {},
   "source": [
    "\"remind me tommorow by 10 PM i have class\"\n",
    "\n",
    "TODO-\n",
    "\n",
    "find remind:\n",
    "\n",
    "YES:\n",
    "\n",
    "    - find numbers 10:30, 1030, 10 30, ten thirty, ten\n",
    "\n",
    "    - find moring or PM or AM or night or afternoon\n",
    "\n",
    "    - find today or tommorow or day after tommorow\n",
    "\n",
    "    - remove above findings from text and make new string"
   ]
  },
  {
   "cell_type": "code",
   "execution_count": 112,
   "metadata": {},
   "outputs": [],
   "source": [
    "# to convert numbers in words to digits install w\n",
    "#!/usr/bin/env python\n",
    "s1 = \"remind me tommorow by 10 PM i have class\"\n",
    "s2 = \"remind me tommorow by 10:30 PM i have class\"\n",
    "s3 = \"remind me tommorow by 10 30 PM i have class\"\n",
    "s4 = \"remind me tommorow by ten thirty PM i have class\"\n",
    "s5 = \"remind me tommorow by tenthirty PM i have class\"\n",
    "\n",
    "\n",
    "time = re.compile('[0-9]+')\n",
    "\n",
    "from word2number import w2n\n",
    "print(w2n.word_to_num(s1))\n",
    "print(w2n.word_to_num(s2))\n",
    "print(w2n.word_to_num(s3))\n",
    "print(w2n.word_to_num(s4))\n",
    "print(w2n.word_to_num(s5))\n",
    "\n",
    "time.findall(s1)\n",
    "time.findall(s2)\n",
    "time.findall(s3)\n",
    "\n",
    "time.findall(s4)\n",
    "time.findall(s5)"
   ]
  },
  {
   "cell_type": "code",
   "execution_count": 1,
   "metadata": {},
   "outputs": [
    {
     "output_type": "error",
     "ename": "ModuleNotFoundError",
     "evalue": "No module named 'word2number'",
     "traceback": [
      "\u001b[0;31m---------------------------------------------------------------------------\u001b[0m",
      "\u001b[0;31mModuleNotFoundError\u001b[0m                       Traceback (most recent call last)",
      "\u001b[0;32m<ipython-input-1-28bf23460639>\u001b[0m in \u001b[0;36m<module>\u001b[0;34m\u001b[0m\n\u001b[1;32m      1\u001b[0m \u001b[0;31m#!/usr/bin/env python\u001b[0m\u001b[0;34m\u001b[0m\u001b[0;34m\u001b[0m\u001b[0;34m\u001b[0m\u001b[0m\n\u001b[0;32m----> 2\u001b[0;31m \u001b[0;32mfrom\u001b[0m \u001b[0mword2number\u001b[0m \u001b[0;32mimport\u001b[0m \u001b[0mw2n\u001b[0m\u001b[0;34m\u001b[0m\u001b[0;34m\u001b[0m\u001b[0m\n\u001b[0m\u001b[1;32m      3\u001b[0m \u001b[0mprint\u001b[0m\u001b[0;34m(\u001b[0m\u001b[0mw2n\u001b[0m\u001b[0;34m.\u001b[0m\u001b[0mword_to_num\u001b[0m\u001b[0;34m(\u001b[0m\u001b[0ms1\u001b[0m\u001b[0;34m)\u001b[0m\u001b[0;34m)\u001b[0m\u001b[0;34m\u001b[0m\u001b[0;34m\u001b[0m\u001b[0m\n\u001b[1;32m      4\u001b[0m \u001b[0mprint\u001b[0m\u001b[0;34m(\u001b[0m\u001b[0mw2n\u001b[0m\u001b[0;34m.\u001b[0m\u001b[0mword_to_num\u001b[0m\u001b[0;34m(\u001b[0m\u001b[0ms2\u001b[0m\u001b[0;34m)\u001b[0m\u001b[0;34m)\u001b[0m\u001b[0;34m\u001b[0m\u001b[0;34m\u001b[0m\u001b[0m\n\u001b[1;32m      5\u001b[0m \u001b[0mprint\u001b[0m\u001b[0;34m(\u001b[0m\u001b[0mw2n\u001b[0m\u001b[0;34m.\u001b[0m\u001b[0mword_to_num\u001b[0m\u001b[0;34m(\u001b[0m\u001b[0ms3\u001b[0m\u001b[0;34m)\u001b[0m\u001b[0;34m)\u001b[0m\u001b[0;34m\u001b[0m\u001b[0;34m\u001b[0m\u001b[0m\n",
      "\u001b[0;31mModuleNotFoundError\u001b[0m: No module named 'word2number'"
     ]
    }
   ],
   "source": [
    "#!/usr/bin/env python\n",
    "from word2number import w2n\n",
    "print(w2n.word_to_num(s1))\n",
    "print(w2n.word_to_num(s2))\n",
    "print(w2n.word_to_num(s3))\n",
    "print(w2n.word_to_num(s4))\n",
    "print(w2n.word_to_num(s5))\n",
    "\n",
    "time.findall(s1)\n",
    "time.findall(s2)\n",
    "time.findall(s3)\n",
    "\n",
    "time.findall(s4)\n",
    "time.findall(s5)\n"
   ]
  },
  {
   "cell_type": "code",
   "execution_count": null,
   "metadata": {},
   "outputs": [],
   "source": []
  }
 ],
 "metadata": {
  "language_info": {
   "codemirror_mode": {
    "name": "ipython",
    "version": 3
   },
   "file_extension": ".py",
   "mimetype": "text/x-python",
   "name": "python",
   "nbconvert_exporter": "python",
   "pygments_lexer": "ipython3",
   "version": "3.8.2-final"
  },
  "orig_nbformat": 2,
  "kernelspec": {
   "name": "python38264bitcontrolsconda2cec91fb1b6645ccb561a09d1fbd891a",
   "display_name": "Python 3.8.2 64-bit ('controls': conda)"
  }
 },
 "nbformat": 4,
 "nbformat_minor": 2
}