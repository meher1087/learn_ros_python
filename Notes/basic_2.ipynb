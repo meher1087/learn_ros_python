{
 "nbformat": 4,
 "nbformat_minor": 2,
 "metadata": {
  "language_info": {
   "name": "python",
   "codemirror_mode": {
    "name": "ipython",
    "version": 3
   }
  },
  "orig_nbformat": 2,
  "file_extension": ".py",
  "mimetype": "text/x-python",
  "name": "python",
  "npconvert_exporter": "python",
  "pygments_lexer": "ipython3",
  "version": 3
 },
 "cells": [
  {
   "cell_type": "markdown",
   "metadata": {},
   "source": [
    "## To run a subscriber node which subscribes to topic & Latched topics intro "
   ]
  },
  {
   "cell_type": "markdown",
   "metadata": {},
   "source": [
    "Below example shows a minimalist node that subscribes to the counter topic and prints out the values in the messages as they arrive."
   ]
  },
  {
   "cell_type": "code",
   "execution_count": null,
   "metadata": {},
   "outputs": [],
   "source": [
    "#!/usr/bin/env python\n",
    "import rospy \n",
    "from std_msgs.msg import Int32\n",
    "\n",
    "def callback(msg):\n",
    "    print(msg.data)\n",
    "'''\n",
    "Once a node has subscribed to a topic, every time a message arrives on it the associated callback function is called, with the message as its parameter. In this case, the function simply prints out the data contained in the message (see\n",
    "'''\n",
    "rospy.init_node('topic_subscriber')\n",
    "\n",
    "'''\n",
    "After initializing the node, as aove, we subscribe to the counter topic using below command\n",
    "'''\n",
    "sub = rospy.Subscriber('counter', Int32, callback)\n",
    "'''\n",
    "We give the name of the topic, the message type of the topic, and the name of the callback function as arguments. Behind the scenes, the subscriber passes this information on to roscore and tries to make a direct connection with the publishers of this topic. If the topic does not exist, or if the type is wrong, there are no error messages: the node will simply wait until messages start being published on the topic.\n",
    "'''\n",
    "rospy.spin() # equivalent to while rospy.is_shutdown(). It returns only when node is ready to shutdown"
   ]
  },
  {
   "cell_type": "markdown",
   "metadata": {},
   "source": [
    "### Lached Topics\n",
    "Certain information like predifined maps, systems parameters such info need not be pulished by nodes frquently as the subscribers need that information only once when they start their process. To avoid repeated publishing of such data to a Topic Lached topics are introduced. If a topic is tagged as lached, it means any subscriber will get data published in that topic once and only once at the time subscription. Which means the publisher node need not publish the same data frequency on to the topic unless it needs to update it.\n",
    "\n",
    "Here the topic published by node will be latched to the topic and when any subscriber requests it will be passed once from the topic.\n",
    "\n",
    "Topics can be marked as latched with the optional latched argument:\n",
    "\n",
    "pub = rospy.Publisher('map', nav_msgs/OccupancyGrid,latched=True)"
   ]
  },
  {
   "cell_type": "code",
   "execution_count": null,
   "metadata": {},
   "outputs": [],
   "source": []
  }
 ]
}