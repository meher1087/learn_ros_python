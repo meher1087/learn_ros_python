{
 "nbformat": 4,
 "nbformat_minor": 2,
 "metadata": {
  "language_info": {
   "name": "python",
   "codemirror_mode": {
    "name": "ipython",
    "version": 3
   }
  },
  "orig_nbformat": 2,
  "file_extension": ".py",
  "mimetype": "text/x-python",
  "name": "python",
  "npconvert_exporter": "python",
  "pygments_lexer": "ipython3",
  "version": 3
 },
 "cells": [
  {
   "cell_type": "markdown",
   "metadata": {},
   "source": [
    "#### Creating xacro file - Robotic Arm Example and many more\n",
    "\n",
    "Use xacro files so that we can use macros for computation.\n",
    "\n",
    "Begin xml file with following lines"
   ]
  },
  {
   "cell_type": "code",
   "execution_count": null,
   "metadata": {},
   "outputs": [],
   "source": [
    "<?xml version=\"1.0\"?>\n",
    "<robot name=\"robotic_arm\" xmlns:xacro=\"http://www.ros.org/wiki/xacro\">"
   ]
  },
  {
   "cell_type": "markdown",
   "metadata": {},
   "source": [
    "Here robot description is with joints and link descriptions.\n",
    "\n",
    "Joints form skeleton of robot where we define each \n",
    "\n",
    "name and type of joint            :  joint name=\"S_joint_x\" type=\"continuous\"\n",
    "\n",
    "Joint between which links         :  Parent link name and child link name\n",
    "\n",
    "joint location & orientation      :  origin xyz=\"0.0 0.0 0.0\" rpy=\"0.0 0.0 0.0\"\n",
    "\n",
    "axis of action                    :  axis xyz=\"0.0 0.0 1.0\"\n",
    "\n",
    "limits on action                  :  limit lower=\"-0.05\" upper=\"0.1\" effort=\"1000\" velocity=\"5\""
   ]
  },
  {
   "cell_type": "code",
   "execution_count": null,
   "metadata": {},
   "outputs": [],
   "source": [
    " <joint name=\"Index_finger_joint\" type=\"prismatic\">\n",
    "        <parent link=\"Wrist\"/>\n",
    "        <child link=\"Index_finger\"/>\n",
    "        <origin xyz=\"-0.05 0 .1\" rpy=\"0 0 0\" />\n",
    "        <axis xyz=\"1 0 0\" />\n",
    "        <limit lower=\"-0.05\" upper=\"0.1\" effort=\"1000\" velocity=\"5\"/>\n",
    "</joint>"
   ]
  },
  {
   "cell_type": "markdown",
   "metadata": {},
   "source": [
    "Link description form the \n",
    "\n",
    "\n",
    "colour\n",
    "\n",
    "mass \n",
    "\n",
    "intertia \n",
    "\n",
    "collision boundaries\n",
    "\n",
    "location of the centre of the shape and centre of collision boundaries are mentioned along with it "
   ]
  },
  {
   "cell_type": "code",
   "execution_count": null,
   "metadata": {},
   "outputs": [],
   "source": [
    "#link shape and size\n",
    "<geometry>\n",
    "    <box size=\"0.02 0.1 0.3\"/>\n",
    "</geometry>\n",
    "\n",
    "#color & texture\n",
    "<material name=\"Orange\">\n",
    "    <color rgba=\"${255/255} ${108/255} ${10/255} 1\"/>\n",
    "    <texture filename=\"file_path\"/>\n",
    "</material>\n",
    "\n",
    "#mass and inertia\n",
    "<inertial>\n",
    "    <origin xyz=\"0 0 ${0.3/2}\" rpy=\"0.0 0 0.0\"/>  # location of centre of the shape and orientation of shape w.r.t parent                                                        joint axis of action\n",
    "    <mass value=\"1\"/>\n",
    "    <inertia ixx=\"0.023\" iyy=\"0.023\" izz=\"0.023\" ixy=\"0.0\" ixz=\"0.0\"  iyz=\"0.0\" />\n",
    "</inertial>\n",
    "\n",
    "#collision boundaries shape\n",
    "<collision>\n",
    "    <origin xyz=\"0 0 ${0.3/2}\" rpy=\"0.0 0 0.0\"/>    # location of centre of the collison boundary shape and orientation of                                                         shape w.r.t parent joint axis of action\n",
    "    <geometry>\n",
    "        <box size=\"0.15 0.1 0.1\"/>\n",
    "    </geometry>\n",
    "</collision>\n"
   ]
  },
  {
   "cell_type": "markdown",
   "metadata": {},
   "source": [
    "#### To avoid confusion \n",
    "\n",
    "First create link names alone with out description of link.\n",
    "\n",
    "Create skeliton of robot with joint description\n",
    "\n",
    "Edit each link to add full description of links\n",
    "\n",
    "Note that orientation of each shape is by default allignes with the axis of action of parent joint.\n",
    "\n",
    "Orign in link description defines the centre of the shape."
   ]
  },
  {
   "cell_type": "markdown",
   "metadata": {},
   "source": [
    "#### To control the robot in GAZEBO"
   ]
  },
  {
   "cell_type": "code",
   "execution_count": null,
   "metadata": {},
   "outputs": [],
   "source": [
    "#keep controller.yaml file in config folder in workspace\n",
    "arm_controller:\n",
    "  type: \"position_controllers/JointTrajectoryController\"\n",
    "  joints:\n",
    "    - S_joint_x\n",
    "    - S_joint_y\n",
    "    - E_joint\n",
    "    - W_joint\n",
    "\n",
    "# Here Joints to which controller need to be enabled will be listed and the type of controller is also mentioned."
   ]
  },
  {
   "cell_type": "code",
   "execution_count": null,
   "metadata": {},
   "outputs": [],
   "source": [
    "# In launch file inform the location of controller file\n",
    "<rosparam file=\"$(find custom_robotic_arm)/config controller.yaml\"/>\n",
    "<node name=\"controller_spawner\" pkg=\"controller_manager\" type=\"spawner\" args=\"arm_controller\"/>"
   ]
  },
  {
   "cell_type": "code",
   "execution_count": null,
   "metadata": {},
   "outputs": [],
   "source": [
    "\n",
    "# tell gazebo that we have a controller for this urdf file by adding this in urdf file\n",
    "<gazebo>\n",
    "    <plugin name=\"control\"     filename=\"libgazebo_ros_control.so\"/>\n",
    "</gazebo>"
   ]
  },
  {
   "cell_type": "markdown",
   "metadata": {},
   "source": [
    "\n",
    "we can see the list of topics in which controller topics will be published once we launch the project using launch file\n",
    "\n",
    "rostopic list\n"
   ]
  },
  {
   "cell_type": "markdown",
   "metadata": {},
   "source": [
    "Once launched, controller_manager will be publishing the control actions in a topic. There will be message format fixed by controller package in which we can communicate with actions. List of nodes in control actions can be seen by command\n",
    "\n"
   ]
  },
  {
   "cell_type": "code",
   "execution_count": null,
   "metadata": {},
   "outputs": [],
   "source": [
    "\n",
    "rostopic list\n",
    "\n",
    "#response will be \n",
    "\n",
    "/arm_controller/command\n",
    "/arm_controller/follow_joint_trajectory/cancel\n",
    "/arm_controller/follow_joint_trajectory/feedback\n",
    "/arm_controller/follow_joint_trajectory/goal\n",
    "/arm_controller/follow_joint_trajectory/result\n",
    "/arm_controller/follow_joint_trajectory/status\n",
    "/arm_controller/state\n",
    "/clock\n",
    "/gazebo/link_states\n",
    "/gazebo/model_states\n",
    "/gazebo/parameter_descriptions\n",
    "/gazebo/parameter_updates\n",
    "/gazebo/set_link_state\n",
    "/gazebo/set_model_state\n",
    "/rosout\n",
    "/rosout_agg"
   ]
  },
  {
   "cell_type": "markdown",
   "metadata": {},
   "source": [
    "where follow_joint_trajectory is an action created by controller_manager. And message protocol(type) to communicate with this action can be seen by using autofill in terminal.  "
   ]
  },
  {
   "cell_type": "code",
   "execution_count": null,
   "metadata": {},
   "outputs": [],
   "source": [
    "#Pressing tab after header we get header format by autofill as shown below\n",
    "\n",
    "rostopic pub /arm_controller/command trajectory_msgs/JointTrajectory \"header:\n",
    "  seq: 0\n",
    "  stamp:\n",
    "    secs: 0\n",
    "    nsecs: 0\n",
    "  frame_id: ''\n",
    "joint_names:\n",
    "- ''\n",
    "points:\n",
    "- positions: [0]\n",
    "  velocities: [0]\n",
    "  accelerations: [0]\n",
    "  effort: [0]\n",
    "  time_from_start: {secs: 0, nsecs: 0}\" \n"
   ]
  },
  {
   "cell_type": "markdown",
   "metadata": {},
   "source": [
    "No using this message we can send the goal positions and velocities etc to action node for required joint name as shown below"
   ]
  },
  {
   "cell_type": "code",
   "execution_count": null,
   "metadata": {},
   "outputs": [],
   "source": [
    "rostopic pub /arm_controller/command trajectory_msgs/JointTrajectory '{joint_names:[\"S_joint_x\",\"S_joint_y\",\"E_joint\",\"W_joint\"],points:[{positions:[-0.8,0.5,-0.75,0.2],time_from_start:[1,0]}]}'\n"
   ]
  }
 ]
}