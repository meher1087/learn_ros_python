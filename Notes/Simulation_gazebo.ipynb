{
 "nbformat": 4,
 "nbformat_minor": 2,
 "metadata": {
  "language_info": {
   "name": "python",
   "codemirror_mode": {
    "name": "ipython",
    "version": 3
   }
  },
  "orig_nbformat": 2,
  "file_extension": ".py",
  "mimetype": "text/x-python",
  "name": "python",
  "npconvert_exporter": "python",
  "pygments_lexer": "ipython3",
  "version": 3
 },
 "cells": [
  {
   "cell_type": "markdown",
   "metadata": {},
   "source": [
    "#### Creating xacro file - Robotic Arm Example\n",
    "\n",
    "Use xacro files so that we can use macros for computation.\n",
    "\n",
    "Begin xml file with following lines"
   ]
  },
  {
   "cell_type": "code",
   "execution_count": null,
   "metadata": {},
   "outputs": [],
   "source": [
    "<?xml version=\"1.0\"?>\n",
    "<robot name=\"robotic_arm\" xmlns:xacro=\"http://www.ros.org/wiki/xacro\">"
   ]
  },
  {
   "cell_type": "markdown",
   "metadata": {},
   "source": [
    "Here robot description is with joints and link descriptions.\n",
    "\n",
    "Joints form skeleton of robot where we define each \n",
    "\n",
    "name and type of joint            :  joint name=\"S_joint_x\" type=\"continuous\"\n",
    "\n",
    "Joint between which links         :  Parent link name and child link name\n",
    "\n",
    "joint location & orientation      :  origin xyz=\"0.0 0.0 0.0\" rpy=\"0.0 0.0 0.0\"\n",
    "\n",
    "axis of action                    :  axis xyz=\"0.0 0.0 1.0\"\n",
    "\n",
    "limits on action                  :  limit lower=\"-0.05\" upper=\"0.1\" effort=\"1000\" velocity=\"5\""
   ]
  },
  {
   "cell_type": "code",
   "execution_count": null,
   "metadata": {},
   "outputs": [],
   "source": [
    " <joint name=\"Index_finger_joint\" type=\"prismatic\">\n",
    "        <parent link=\"Wrist\"/>\n",
    "        <child link=\"Index_finger\"/>\n",
    "        <origin xyz=\"-0.05 0 .1\" rpy=\"0 0 0\" />\n",
    "        <axis xyz=\"1 0 0\" />\n",
    "        <limit lower=\"-0.05\" upper=\"0.1\" effort=\"1000\" velocity=\"5\"/>\n",
    "</joint>"
   ]
  },
  {
   "cell_type": "markdown",
   "metadata": {},
   "source": [
    "Link description form the \n",
    "\n",
    "\n",
    "colour\n",
    "\n",
    "mass \n",
    "\n",
    "intertia \n",
    "\n",
    "collision boundaries\n",
    "\n",
    "location of the centre of the shape and centre of collision boundaries are mentioned along with it "
   ]
  },
  {
   "cell_type": "code",
   "execution_count": null,
   "metadata": {},
   "outputs": [],
   "source": [
    "#link shape and size\n",
    "<geometry>\n",
    "    <box size=\"0.02 0.1 0.3\"/>\n",
    "</geometry>\n",
    "\n",
    "#color & texture\n",
    "<material name=\"Orange\">\n",
    "    <color rgba=\"${255/255} ${108/255} ${10/255} 1\"/>\n",
    "    <texture filename=\"file_path\"/>\n",
    "</material>\n",
    "\n",
    "#mass and inertia\n",
    "<inertial>\n",
    "    <origin xyz=\"0 0 ${0.3/2}\" rpy=\"0.0 0 0.0\"/>  # location of centre of the shape and orientation of shape w.r.t parent                                                        joint axis of action\n",
    "    <mass value=\"1\"/>\n",
    "    <inertia ixx=\"0.023\" iyy=\"0.023\" izz=\"0.023\" ixy=\"0.0\" ixz=\"0.0\"  iyz=\"0.0\" />\n",
    "</inertial>\n",
    "\n",
    "#collision boundaries shape\n",
    "<collision>\n",
    "    <origin xyz=\"0 0 ${0.3/2}\" rpy=\"0.0 0 0.0\"/>    # location of centre of the collison boundary shape and orientation of                                                         shape w.r.t parent joint axis of action\n",
    "    <geometry>\n",
    "        <box size=\"0.15 0.1 0.1\"/>\n",
    "    </geometry>\n",
    "</collision>\n"
   ]
  },
  {
   "cell_type": "markdown",
   "metadata": {},
   "source": []
  },
  {
   "cell_type": "markdown",
   "metadata": {},
   "source": [
    "#### To avoid confusion \n",
    "\n",
    "First create link names alone with out description of link.\n",
    "\n",
    "Create skeliton of robot with joint description\n",
    "\n",
    "Edit each link to add full description of links\n",
    "\n",
    "Note that orientation of each shape is by default allignes with the axis of action of parent joint.\n",
    "\n",
    "Orign in link description defines the centre of the shape."
   ]
  }
 ]
}