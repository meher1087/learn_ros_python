{
 "nbformat": 4,
 "nbformat_minor": 2,
 "metadata": {
  "language_info": {
   "name": "python",
   "codemirror_mode": {
    "name": "ipython",
    "version": 3
   },
   "version": "3.8.2-final"
  },
  "orig_nbformat": 2,
  "file_extension": ".py",
  "mimetype": "text/x-python",
  "name": "python",
  "npconvert_exporter": "python",
  "pygments_lexer": "ipython3",
  "version": 3,
  "kernelspec": {
   "name": "python38264bitcontrolsconda2cec91fb1b6645ccb561a09d1fbd891a",
   "display_name": "Python 3.8.2 64-bit ('controls': conda)"
  }
 },
 "cells": [
  {
   "cell_type": "markdown",
   "metadata": {},
   "source": [
    "### The basic project setup and execution of a publisher node"
   ]
  },
  {
   "cell_type": "markdown",
   "metadata": {},
   "source": [
    "#### Make a workspace folder and initialise catkin \n",
    "\n",
    "\n",
    "mkdir -p ~/catkin_ws/src\n",
    "\n",
    "cd ~/catkin_ws/src\n",
    "\n",
    "catkin_init_workspace\n",
    "\n",
    "cd ~/catkin_ws\n",
    "\n",
    "catkin_make"
   ]
  },
  {
   "cell_type": "markdown",
   "metadata": {},
   "source": [
    "#### configure your system to use this workspace, and the code that’s (going to be) contained inside it.\n",
    "\n",
    "\n",
    "catkin_ws$ source devel/setup.bash"
   ]
  },
  {
   "cell_type": "markdown",
   "metadata": {},
   "source": [
    "#### writing a program (node) in this workspace will be treated as creating a new package with package name.\n",
    "\n",
    "Create a package named basic in the workspace SRC folder\n",
    "\n",
    "Packages sit inside workspaces, in the src directory. Each package directory must include a CMakeLists.txt file and a package.xml file that describes the contents of the package and how catkin should interact with it. Creating a new package is easy:\n",
    "\n",
    "\n",
    "cd ~/catkin_ws/src\n",
    "\n",
    "catkin_create_pkg basic rospy"
   ]
  },
  {
   "cell_type": "markdown",
   "metadata": {},
   "source": [
    "#### create publishing node in SRC folder of package basic\n",
    "\n",
    "Below example shows the basic code for advertising a topic and publishing messages on it. This node publishes consecutive integers on the topic counter at a rate of 2 Hz.\n",
    "\n",
    "In this the first line konw as the shebang lets the OS know that this is a python file and that it should be passed through Python interpreter\n"
   ]
  },
  {
   "cell_type": "code",
   "execution_count": null,
   "metadata": {},
   "outputs": [],
   "source": [
    "#!/usr/bin/env python\n",
    "import rospy\n",
    "from std_msgs.msg import Int32 #In this case, we’re going to use a 32-bit integer, defined in the ROS standard message package, std_msgs. \n",
    "rospy.init_node('topic_publisher') \n",
    "pub = rospy.Publisher('counter', Int32) \n",
    "rate = rospy.Rate(2)\n",
    "count = 0 \n",
    "while not rospy.is_shutdown(): \n",
    "    pub.publish(count) \n",
    "    count += 1 \n",
    "    rate.sleep()\n"
   ]
  },
  {
   "cell_type": "markdown",
   "metadata": {},
   "source": [
    "#### we have to set execute permissions on them using the Linux\n",
    "\n",
    "user@hostname$ chmod u+x topic_publisher.py"
   ]
  },
  {
   "cell_type": "markdown",
   "metadata": {},
   "source": [
    "#### Edit package.xml in src to add depedencies\n",
    "\n",
    "<exec_depend>std_msgs</exec_depend>"
   ]
  },
  {
   "cell_type": "markdown",
   "metadata": {},
   "source": [
    "#### Run the package using \"rosrun package-name program_name\"\n",
    "\n",
    "WE CAN RUN THE FOLLOWING COMMAND IN THE SAME TERMINAL WHERE SETUP.BASH IS SOURCED. IF NEW TERMINAL IS OPENED BASICS CANT BE IDENTIFIED UNLESS IT IS EXPORTED TO BASHRC FILE\n",
    "\n",
    "catkin_ws$ source devel/setup.bash\n",
    "\n",
    "user@hostname$ rosrun basics topic_publisher.py"
   ]
  },
  {
   "cell_type": "markdown",
   "metadata": {},
   "source": [
    "veirfy the topic is published or not in the name of counter in another terminal\n",
    "\n",
    "$ rostopic list\n",
    "\n",
    "Query data with $rostopic echo counter -n 5\n",
    "\n",
    "Query information with $rostopic info counter\n"
   ]
  }
 ]
}