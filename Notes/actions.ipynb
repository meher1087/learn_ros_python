{
 "nbformat": 4,
 "nbformat_minor": 2,
 "metadata": {
  "language_info": {
   "name": "python",
   "codemirror_mode": {
    "name": "ipython",
    "version": 3
   }
  },
  "orig_nbformat": 2,
  "file_extension": ".py",
  "mimetype": "text/x-python",
  "name": "python",
  "npconvert_exporter": "python",
  "pygments_lexer": "ipython3",
  "version": 3
 },
 "cells": [
  {
   "cell_type": "markdown",
   "metadata": {},
   "source": [
    "#### Actions\n",
    "Actions are more sofisticated than services used for the same purpose of immediate jobs to be done on request and give response to the requested node. But Actions are asynchronous"
   ]
  },
  {
   "cell_type": "markdown",
   "metadata": {},
   "source": [
    "While services are handy for simple get/set interactions like querying status and managing configuration, they don’t work well when you need to initiate a long-running task. For example, imagine commanding a robot to drive to some distant location; call it goto_position."
   ]
  },
  {
   "cell_type": "markdown",
   "metadata": {},
   "source": [
    "Using an action interface to goto_position, you send a goal, then move on to other tasks while the robot is driving. Along the way, you receive periodic progress updates (distance traveled, estimated time to goal, etc.), culminating in a result message (did the robot make it to the goal or was it forced to give up?). And if something more important comes up, you"
   ]
  },
  {
   "cell_type": "markdown",
   "metadata": {},
   "source": [
    "### 1. First define the goal, result and feedback of the action in .action file and build it with catkin_make.\n",
    "### 2. Write the code which do the action and implement it using SimpleActionServer Class from actionlib package. "
   ]
  },
  {
   "cell_type": "code",
   "execution_count": null,
   "metadata": {},
   "outputs": [],
   "source": [
    "# 1. Defining an Action\n",
    "\n",
    "#Step 1 - define goal, result and feedback message formats in an action definition file (x.action)\n",
    "\n",
    "#Example :- realizing timer in an action.\n",
    "\n",
    "# This is an action definition file, which has three parts: the goal, the result, and the feedback. \n",
    "# \n",
    "# Part 1: the goal, to be sent by the client \n",
    "# \n",
    "# The amount of time we want to wait \n",
    "duration time_to_wait \n",
    "--- \n",
    "# Part 2: the result, to be sent by the server upon completion \n",
    "#\n",
    "# How much time we waited \n",
    "duration time_elapsed \n",
    "# How many updates we provided along the way\n",
    "uint32 updates_sent \n",
    "---\n",
    "# Part 3: the feedback, to be sent periodically by the server during \n",
    "# execution. \n",
    "# \n",
    "# The amount of time that has elapsed from the start \n",
    "duration time_elapsed \n",
    "# The amount of time remaining until we're done \n",
    "duration time_remaining\n",
    "\n",
    "# --- are used as seperators between sections goal, result and feedback\n",
    "\n"
   ]
  },
  {
   "cell_type": "markdown",
   "metadata": {},
   "source": [
    "\\]\n",
    "Step 2\n",
    "The above written action file Timer.action should be placed in directory called action with in ROS package (basic).\n",
    "\n",
    "Step 3\n",
    "Add actionlib_msgs in find_package   in CMakeLists.txt which helps catkin to build the action in folder\n",
    "\n",
    "find_package(catkin REQUIRED COMPONENTS # other packages are already listed here actionlib_msgs)\n",
    "\n",
    "Step 4\n",
    "\n",
    "add_action_files() in CMakeLists.txt too\n",
    "\n",
    "add_action_files( DIRECTORY action FILES Timer.action )\n",
    "\n",
    "Step 5\n",
    "\n",
    "list the dependencies for your actions. You also need to explicitly list actionlib_msgs as a dependency in order for actions to compile properly:\n",
    "\n",
    "generate_messages( DEPENDENCIES actionlib_msgs std_msgs)\n",
    "\n",
    "Step 6\n",
    "add actionlib_msgs as a dependency for catkin:\n",
    "\n",
    "catkin_package( CATKIN_DEPENDS actionlib_msgs)\n",
    "\n",
    "Step 7\n",
    "edit package.xml by adding\n",
    "\n",
    "<build_depend>actionlib_msgs</build_depend>\n",
    "<exec_depend>actionlib_msgs</exec_depend>\n",
    "\n",
    "\n",
    "\n",
    "Step 8\n",
    "run catkin_make in ros_ws\n",
    "and then source devel/setup.bash to update files\n",
    "\n",
    "\n",
    "\n",
    "\n"
   ]
  },
  {
   "cell_type": "markdown",
   "metadata": {},
   "source": [
    "#### Write and Build an action server using SimpleActionServer class from the actionlib package."
   ]
  },
  {
   "cell_type": "code",
   "execution_count": null,
   "metadata": {},
   "outputs": [],
   "source": [
    "# Action server to execute timer action simple_action_server.py\n",
    "#! /usr/bin/env python \n",
    "import rospy\n",
    "import time \n",
    "import actionlib \n",
    "from basics.msg import TimerAction, TimerGoal, TimerResult\n",
    "\n",
    "def do_timer(goal): \n",
    "    start_time = time.time() \n",
    "    time.sleep(goal.time_to_wait.to_sec()) \n",
    "    result = TimerResult() \n",
    "    result.time_elapsed = rospy.Duration.from_sec(time.time()- start_time)\n",
    "    result.updates_sent = 0 \n",
    "    server.set_succeeded(result)\n",
    "\n",
    "rospy.init_node('timer_action_server') \n",
    "server = actionlib.SimpleActionServer('timer', TimerAction, do_timer, False)   # pass False to disable autostart which is important to avoid bugs\n",
    "server.start() \n",
    "rospy.spin()\n",
    "\n"
   ]
  },
  {
   "cell_type": "code",
   "execution_count": null,
   "metadata": {},
   "outputs": [],
   "source": []
  },
  {
   "cell_type": "markdown",
   "metadata": {},
   "source": [
    "Run action\n",
    "\n",
    "user@hostname$ rosrun basics simple_action_server.py\n"
   ]
  },
  {
   "cell_type": "code",
   "execution_count": null,
   "metadata": {},
   "outputs": [],
   "source": [
    "#### Use Action simple_action_client.py\n",
    "\n",
    "import actionlib \n",
    "from basics.msg \n",
    "import TimerAction, TimerGoal, TimerResult\n",
    "rospy.init_node('timer_action_client') \n",
    "client = actionlib.SimpleActionClient('timer', TimerAction) client.wait_for_server() \n",
    "goal = TimerGoal() \n",
    "goal.time_to_wait = rospy.Duration.from_sec(5.0)\n",
    "client.send_goal(goal) \n",
    "client.wait_for_result() \n",
    "print('Time elapsed: %f'%(client.get_result().time_elapsed.to_sec()))\n"
   ]
  },
  {
   "cell_type": "markdown",
   "metadata": {},
   "source": [
    "#### Run simple action client calss to send goal to our action server and wait for result"
   ]
  },
  {
   "cell_type": "code",
   "execution_count": null,
   "metadata": {},
   "outputs": [],
   "source": [
    "#! /usr/bin/env python \n",
    "import rospy\n",
    "import actionlib \n",
    "from basics.msg \n",
    "import TimerAction, TimerGoal, TimerResult\n",
    "rospy.init_node('timer_action_client') \n",
    "client = actionlib.SimpleActionClient('timer', TimerAction) \n",
    "client.wait_for_server() goal = TimerGoal() goal.time_to_wait = rospy.Duration.from_sec(5.0) client.send_goal(goal) \n",
    "client.wait_for_result() \n",
    "print('Time elapsed: %f'%(client.get_result().time_elapsed.to_sec()))"
   ]
  },
  {
   "cell_type": "markdown",
   "metadata": {},
   "source": [
    "#### Action server with feedbac and emergency stop facilities"
   ]
  },
  {
   "cell_type": "code",
   "execution_count": null,
   "metadata": {},
   "outputs": [],
   "source": [
    "#! /usr/bin/env python \n",
    "import rospy\n",
    "import time \n",
    "import actionlib from basics.msg \n",
    "import TimerAction, TimerGoal, TimerResult, TimerFeedback\n",
    "\n",
    "def do_timer(goal): \n",
    "    start_time = time.time() \n",
    "    update_count = 0\n",
    "    if goal.time_to_wait.to_sec() > 60.0:\n",
    "        result = TimerResult()\n",
    "        result.time_elapsed = rospy.Duration.from_sec(time.time() - start_time) \n",
    "        result.updates_sent = update_count \n",
    "        server.set_aborted(result, \"Timer aborted due to too-long wait\") \n",
    "        return\n",
    "    while (time.time() - start_time) < goal.time_to_wait.to_sec():\n",
    "        if server.is_preempt_requested():\n",
    "            result = TimerResult()\n",
    "            result.time_elapsed = rospy.Duration.from_sec(time.time() - start_time)\n",
    "            result.updates_sent = update_count\n",
    "            server.set_preempted(result, \"Timer preempted\") \n",
    "            return\n",
    "        feedback = TimerFeedback() \n",
    "        feedback.time_elapsed = rospy.Duration.from_sec(time.time() - start_time) \n",
    "        feedback.time_remaining = goal.time_to_wait - feedback.time_elapsed \n",
    "        server.publish_feedback(feedback) \n",
    "        update_count += 1\n",
    "        time.sleep(1.0)\n",
    "    result = TimerResult() \n",
    "    result.time_elapsed = rospy.Duration.from_sec(time.time() - start_time) \n",
    "    result.updates_sent = update_count \n",
    "    server.set_succeeded(result, \"Timer completed successfully\")\n",
    "rospy.init_node('timer_action_server') \n",
    "server = actionlib.SimpleActionServer('timer', TimerAction, do_timer, False) \n",
    "server.start() \n",
    "rospy.spin()"
   ]
  },
  {
   "cell_type": "markdown",
   "metadata": {},
   "source": [
    "#### Code explanation\n",
    "\n",
    "To provide feedback, we need to import message type TimerFeedback from basic.msg\n",
    "\n",
    "We abort action under special cases and for wrong input parameters with sets_aborted()\n",
    "\n",
    "We include result with set_succeeded() if possible\n",
    "\n",
    "Action handles the preemptions(premature interruptions) to give status about progress of action and also to address change of goals in runtime.\n",
    "This can be one using server.is_preempt_requested():\n",
    "we fill the succeeding result with feedback using server.set_preempted\n",
    "\n",
    "We include periodic feedback process in action, where the status about progress of action will be published on server using publish_feedback()\n",
    "\n",
    "once goal is acheived we notify the client. Here we may fill in the updates_sent field and add a status string like \"goal completed\" using server.set_succeeded(result, \"goal completed\")\n",
    "\n",
    "\n"
   ]
  },
  {
   "cell_type": "markdown",
   "metadata": {},
   "source": [
    "#### advanced client code to test feedback, preempt a goal and trigger an abort.\n"
   ]
  },
  {
   "cell_type": "code",
   "execution_count": null,
   "metadata": {},
   "outputs": [],
   "source": [
    "\n",
    "#! /usr/bin/env python \n",
    "import rospy\n",
    "import time \n",
    "import actionlib from basics.msg \n",
    "import TimerAction, TimerGoal, TimerResult, TimerFeedback\n",
    "def feedback_cb(feedback): \n",
    "    print('[Feedback] Time elapsed: %f'%(feedback.time_elapsed.to_sec())) \n",
    "    print('[Feedback] Time remaining: %f'%(feedback.time_remaining.to_sec()))\n",
    "\n",
    "rospy.init_node('timer_action_client') \n",
    "client = actionlib.SimpleActionClient('timer', TimerAction)\n",
    "client.wait_for_server()\n",
    "\n",
    "goal = TimerGoal() \n",
    "goal.time_to_wait = rospy.Duration.from_sec(5.0) # Uncomment this line to test server-side abort: \n",
    "#goal.time_to_wait = rospy.Duration.from_sec(500.0)\n",
    "client.send_goal(goal, feedback_cb=feedback_cb)\n",
    "\n",
    "# Uncomment these lines to test goal preemption: \n",
    "#time.sleep(3.0) \n",
    "#client.cancel_goal()\n",
    "client.wait_for_result() \n",
    "print('[Result] State: %d'%(client.get_state())) \n",
    "print('[Result] Status: %s'%(client.get_goal_status_text())) print('[Result] Time elapsed: %f'%(client.get_result().time_elapsed.to_sec())) \n",
    "print('[Result] Updates sent: %d'%(client.get_result().updates_sent))"
   ]
  },
  {
   "cell_type": "markdown",
   "metadata": {},
   "source": [
    "#### Summary of topics, services and actions\n",
    "\n",
    "| Type | Best used for                                     |\n",
    "|------|---------------------------------------------------|\n",
    "|Topic | One-way communication, especially if there might be multple nodes listening (e.g., streams of sensor data)|\n",
    "|------|---------------------------------------------------|\n",
    "|Service| Simple request/response interactions, such as asking a question about a node's current sate|\n",
    "|------|---------------------------------------------------|\n",
    "|Action|Most request/response interactions, especially when servicing the request is no instantaneous(e.g., navigating to a goad location)|"
   ]
  },
  {
   "cell_type": "code",
   "execution_count": null,
   "metadata": {},
   "outputs": [],
   "source": []
  }
 ]
}