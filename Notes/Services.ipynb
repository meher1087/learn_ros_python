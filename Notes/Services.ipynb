{
 "nbformat": 4,
 "nbformat_minor": 2,
 "metadata": {
  "language_info": {
   "name": "python",
   "codemirror_mode": {
    "name": "ipython",
    "version": 3
   }
  },
  "orig_nbformat": 2,
  "file_extension": ".py",
  "mimetype": "text/x-python",
  "name": "python",
  "npconvert_exporter": "python",
  "pygments_lexer": "ipython3",
  "version": 3
 },
 "cells": [
  {
   "cell_type": "markdown",
   "metadata": {},
   "source": [
    "#### Services\n",
    "\n",
    "All the ROS topics works asynchronously. There are cases where asynchronous ROS topics don't seem like the best fit.\n",
    "Which means a node can directly request the value to get immediately as regular functions. \n",
    "\n",
    "Thus services are just synchronous remote procedure calls; they allow one node to call a function that executes in another node.\n",
    "\n",
    "The server (which provides the service) specifies a callback to deal with the service request, and advertises the service. The client (which calls the service) then accesses this service through a local proxy.\n",
    "\n",
    "Service calls are well suited to things that you only need to do occasionally and that take a bounded amount of time to complete. Common computations, which you might want to distribute to other computers, are a good example."
   ]
  },
  {
   "cell_type": "code",
   "execution_count": null,
   "metadata": {},
   "outputs": [],
   "source": [
    "# Define New service .. To do later"
   ]
  }
 ]
}